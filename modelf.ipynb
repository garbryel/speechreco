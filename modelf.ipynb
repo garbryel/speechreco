{
 "cells": [
  {
   "cell_type": "code",
   "execution_count": 1,
   "id": "c51cd482",
   "metadata": {},
   "outputs": [
    {
     "name": "stderr",
     "output_type": "stream",
     "text": [
      "c:\\Users\\gabry\\anaconda3\\envs\\tf\\lib\\site-packages\\tqdm\\auto.py:21: TqdmWarning: IProgress not found. Please update jupyter and ipywidgets. See https://ipywidgets.readthedocs.io/en/stable/user_install.html\n",
      "  from .autonotebook import tqdm as notebook_tqdm\n"
     ]
    }
   ],
   "source": [
    "import os\n",
    "import numpy as np\n",
    "import pandas as pd\n",
    "import librosa\n",
    "import librosa.display\n",
    "import matplotlib.pyplot as plt\n",
    "import noisereduce as nr\n",
    "import pywt\n",
    "import warnings\n",
    "from tqdm import tqdm\n",
    "from joblib import Parallel, delayed\n",
    "from sklearn.preprocessing import LabelEncoder\n",
    "from sklearn.metrics import classification_report, precision_score, recall_score, f1_score\n",
    "import jiwer\n",
    "from tensorflow.keras.models import Sequential\n",
    "from tensorflow.keras.layers import LSTM, Dense, Dropout, Masking\n",
    "from tensorflow.keras.preprocessing.sequence import pad_sequences\n",
    "from tensorflow.keras.utils import to_categorical\n",
    "from tensorflow.keras.callbacks import EarlyStopping\n",
    "import time\n",
    "from sklearn.metrics import classification_report, precision_score, recall_score, f1_score\n",
    "import numpy as np\n",
    "import jiwer\n",
    "\n",
    "warnings.filterwarnings('ignore')\n"
   ]
  },
  {
   "cell_type": "code",
   "execution_count": 2,
   "id": "85fcb1e9",
   "metadata": {},
   "outputs": [],
   "source": [
    "SAMPLE_RATE = 16000\n",
    "N_MFCC = 13\n",
    "N_MELS = 22\n",
    "WINDOW = int(SAMPLE_RATE * 0.01)\n",
    "HOP = int(SAMPLE_RATE * 0.005)\n",
    "COMMANDS = [\"baca\", \"berhenti\", \"foto\", \"halo\", \"info\", \"kembali\", \"ulang\"]\n"
   ]
  },
  {
   "cell_type": "code",
   "execution_count": 3,
   "id": "4151817f",
   "metadata": {},
   "outputs": [],
   "source": [
    "def load_audio(file_path, sr=SAMPLE_RATE):\n",
    "    audio, _ = librosa.load(file_path, sr=sr)\n",
    "    return audio / np.max(np.abs(audio))\n",
    "\n",
    "# def reduce_noise(audio):\n",
    "#     return nr.reduce_noise(y=audio, sr=SAMPLE_RATE)\n",
    "\n",
    "# def preprocess_audio(file_path):\n",
    "#     audio = load_audio(file_path)\n",
    "#     return reduce_noise(audio)\n",
    "\n",
    "def wavelet_transform(signal):\n",
    "    wp = pywt.WaveletPacket(signal, wavelet='db4', mode='symmetric', maxlevel=3)\n",
    "    return np.concatenate([n.data for n in wp.get_level(3, 'freq')])\n",
    "\n",
    "def extract_mfcc(signal):\n",
    "    return librosa.feature.mfcc(\n",
    "        y=wavelet_transform(signal),\n",
    "        sr=SAMPLE_RATE,\n",
    "        n_mfcc=N_MFCC,\n",
    "        n_mels=N_MELS,\n",
    "        n_fft=WINDOW,\n",
    "        hop_length=HOP\n",
    "    ).T\n"
   ]
  },
  {
   "cell_type": "code",
   "execution_count": 4,
   "id": "3ae15558",
   "metadata": {},
   "outputs": [],
   "source": [
    "def load_dataset(directory, commands):\n",
    "    data = []\n",
    "    for label in commands:\n",
    "        folder = os.path.join(directory, label)\n",
    "        for file in os.listdir(folder):\n",
    "            if file.endswith('.wav'):\n",
    "                data.append((os.path.join(folder, file), label))\n",
    "    return pd.DataFrame(data, columns=[\"speech\", \"label\"])\n"
   ]
  },
  {
   "cell_type": "code",
   "execution_count": 5,
   "id": "13318859",
   "metadata": {},
   "outputs": [],
   "source": [
    "def extract_features(df):\n",
    "    print(\"Preprocessing and extracting features...\")\n",
    "    features = Parallel(n_jobs=-1)(\n",
    "        delayed(lambda path: extract_mfcc(load_audio(path)))(fp)\n",
    "        for fp in tqdm(df['speech'], desc=\"Extracting\")\n",
    "    )\n",
    "    df['mfcc'] = features\n",
    "    return df\n"
   ]
  },
  {
   "cell_type": "code",
   "execution_count": 6,
   "id": "c74149f7",
   "metadata": {},
   "outputs": [],
   "source": [
    "def encode_and_pad(df_train, df_valid):\n",
    "    le = LabelEncoder()\n",
    "    df_train['label_encoded'] = le.fit_transform(df_train['label'])\n",
    "    df_valid['label_encoded'] = le.transform(df_valid['label'])\n",
    "\n",
    "    all_mfcc = df_train['mfcc'].tolist() + df_valid['mfcc'].tolist()\n",
    "    max_len = max(len(x) for x in all_mfcc)\n",
    "\n",
    "    X_train = pad_sequences(df_train['mfcc'], maxlen=max_len, padding='post', dtype='float32')\n",
    "    X_valid = pad_sequences(df_valid['mfcc'], maxlen=max_len, padding='post', dtype='float32')\n",
    "\n",
    "    y_train = to_categorical(df_train['label_encoded'])\n",
    "    y_valid = to_categorical(df_valid['label_encoded'])\n",
    "\n",
    "    return X_train, y_train, X_valid, y_valid, le\n"
   ]
  },
  {
   "cell_type": "code",
   "execution_count": 7,
   "id": "1bf6b531",
   "metadata": {},
   "outputs": [],
   "source": [
    "def build_model(input_shape, num_classes):\n",
    "    model = Sequential([\n",
    "        Masking(mask_value=0.0, input_shape=input_shape),\n",
    "        LSTM(128, return_sequences=True),\n",
    "        LSTM(64, return_sequences=True),\n",
    "        LSTM(32),\n",
    "        Dropout(0.2),\n",
    "        Dense(64, activation='relu'),\n",
    "        Dropout(0.2),\n",
    "        Dense(num_classes, activation='softmax')\n",
    "    ])\n",
    "    model.compile(optimizer='adam', loss='categorical_crossentropy', metrics=['accuracy'])\n",
    "    return model\n"
   ]
  },
  {
   "cell_type": "code",
   "execution_count": 8,
   "id": "3dafca9b",
   "metadata": {},
   "outputs": [],
   "source": [
    "def train_model(model, X_train, y_train, X_valid, y_valid, batch_size=32, epochs=100):\n",
    "    early_stop = EarlyStopping(monitor='val_accuracy', patience=10, restore_best_weights=True)\n",
    "\n",
    "    history = model.fit(\n",
    "        X_train, y_train,\n",
    "        validation_data=(X_valid, y_valid),\n",
    "        epochs=epochs,\n",
    "        batch_size=batch_size,\n",
    "        callbacks=[early_stop],\n",
    "        verbose=1\n",
    "    )\n",
    "    return model, history\n"
   ]
  },
  {
   "cell_type": "code",
   "execution_count": 9,
   "id": "b3aa36a7",
   "metadata": {},
   "outputs": [],
   "source": [
    "def evaluate_model(model, X_valid, y_valid, label_encoder):\n",
    "    # Mulai timer\n",
    "    start = time.time()\n",
    "    \n",
    "    # Predict\n",
    "    y_pred_probs = model.predict(X_valid)\n",
    "    end = time.time()\n",
    "    \n",
    "    # Konversi ke kelas\n",
    "    y_pred_classes = np.argmax(y_pred_probs, axis=1)\n",
    "    y_true = np.argmax(y_valid, axis=1)\n",
    "    \n",
    "    # Classification Report\n",
    "    print(\"\\n=== Classification Report ===\")\n",
    "    print(classification_report(y_true, y_pred_classes, target_names=label_encoder.classes_))\n",
    "    \n",
    "    # RTF (Real Time Factor) - asumsi 16 kHz\n",
    "    audio_duration_total = (X_valid.shape[0] * X_valid.shape[1]) / 16000\n",
    "    rtf = (end - start) / audio_duration_total\n",
    "    print(f\"RTF (Real Time Factor): {rtf:.4f}\")\n",
    "    \n",
    "    # Precision, Recall, F1 Score (weighted)\n",
    "    precision = precision_score(y_true, y_pred_classes, average='weighted')\n",
    "    recall = recall_score(y_true, y_pred_classes, average='weighted')\n",
    "    f1 = f1_score(y_true, y_pred_classes, average='weighted')\n",
    "    \n",
    "    print(f\"Precision (weighted): {precision:.4f}\")\n",
    "    print(f\"Recall (weighted): {recall:.4f}\")\n",
    "    print(f\"F1 Score (weighted): {f1:.4f}\")\n",
    "    \n",
    "    return {\n",
    "        'RTF': rtf,\n",
    "        'Precision': precision,\n",
    "        'Recall': recall,\n",
    "        'F1': f1,\n",
    "        'y_true': y_true,\n",
    "        'y_pred': y_pred_classes\n",
    "    }\n"
   ]
  },
  {
   "cell_type": "code",
   "execution_count": 10,
   "id": "51d2e77c",
   "metadata": {},
   "outputs": [],
   "source": [
    "# Load datasets\n",
    "df_train = load_dataset(\"dataaug/train\", COMMANDS)\n",
    "df_valid = load_dataset(\"dataaug/validation\", COMMANDS)"
   ]
  },
  {
   "cell_type": "code",
   "execution_count": 12,
   "id": "b43ca145",
   "metadata": {},
   "outputs": [
    {
     "data": {
      "text/plain": [
       "label\n",
       "kembali     981\n",
       "ulang       966\n",
       "baca        963\n",
       "foto        963\n",
       "berhenti    960\n",
       "halo        957\n",
       "info        957\n",
       "Name: count, dtype: int64"
      ]
     },
     "execution_count": 12,
     "metadata": {},
     "output_type": "execute_result"
    }
   ],
   "source": [
    "df_train['label'].value_counts()"
   ]
  },
  {
   "cell_type": "code",
   "execution_count": 11,
   "id": "b461e17f",
   "metadata": {},
   "outputs": [
    {
     "data": {
      "text/plain": [
       "label\n",
       "kembali     141\n",
       "baca        138\n",
       "berhenti    138\n",
       "foto        138\n",
       "info        138\n",
       "ulang       138\n",
       "halo        137\n",
       "Name: count, dtype: int64"
      ]
     },
     "execution_count": 11,
     "metadata": {},
     "output_type": "execute_result"
    }
   ],
   "source": [
    "df_valid['label'].value_counts()"
   ]
  },
  {
   "cell_type": "code",
   "execution_count": 13,
   "id": "d2f611d4",
   "metadata": {},
   "outputs": [
    {
     "name": "stdout",
     "output_type": "stream",
     "text": [
      "Preprocessing and extracting features...\n"
     ]
    },
    {
     "name": "stderr",
     "output_type": "stream",
     "text": [
      "Extracting: 100%|██████████| 6747/6747 [00:13<00:00, 511.20it/s]\n"
     ]
    },
    {
     "name": "stdout",
     "output_type": "stream",
     "text": [
      "Preprocessing and extracting features...\n"
     ]
    },
    {
     "name": "stderr",
     "output_type": "stream",
     "text": [
      "Extracting: 100%|██████████| 968/968 [00:01<00:00, 907.32it/s] \n"
     ]
    }
   ],
   "source": [
    "# Preprocessing + Feature extraction\n",
    "df_train = extract_features(df_train)\n",
    "df_valid = extract_features(df_valid)\n"
   ]
  },
  {
   "cell_type": "code",
   "execution_count": 14,
   "id": "80d26296",
   "metadata": {},
   "outputs": [],
   "source": [
    "# Encode & pad\n",
    "X_train, y_train, X_valid, y_valid, le = encode_and_pad(df_train, df_valid)"
   ]
  },
  {
   "cell_type": "code",
   "execution_count": 15,
   "id": "fbc638c7",
   "metadata": {},
   "outputs": [],
   "source": [
    "# Build model\n",
    "model = build_model(input_shape=(X_train.shape[1], X_train.shape[2]), num_classes=y_train.shape[1])"
   ]
  },
  {
   "cell_type": "code",
   "execution_count": 16,
   "id": "6fc6320a",
   "metadata": {},
   "outputs": [
    {
     "name": "stdout",
     "output_type": "stream",
     "text": [
      "Epoch 1/100\n",
      "211/211 [==============================] - 52s 185ms/step - loss: 1.9306 - accuracy: 0.1684 - val_loss: 1.8303 - val_accuracy: 0.2541\n",
      "Epoch 2/100\n",
      "211/211 [==============================] - 35s 168ms/step - loss: 1.6243 - accuracy: 0.2780 - val_loss: 1.4375 - val_accuracy: 0.3595\n",
      "Epoch 3/100\n",
      "211/211 [==============================] - 36s 170ms/step - loss: 1.4008 - accuracy: 0.3928 - val_loss: 1.1717 - val_accuracy: 0.4773\n",
      "Epoch 4/100\n",
      "211/211 [==============================] - 35s 168ms/step - loss: 1.1798 - accuracy: 0.4990 - val_loss: 0.9866 - val_accuracy: 0.5610\n",
      "Epoch 5/100\n",
      "211/211 [==============================] - 36s 171ms/step - loss: 1.0260 - accuracy: 0.5641 - val_loss: 0.8252 - val_accuracy: 0.6612\n",
      "Epoch 6/100\n",
      "211/211 [==============================] - 37s 175ms/step - loss: 0.8893 - accuracy: 0.6352 - val_loss: 0.6529 - val_accuracy: 0.7242\n",
      "Epoch 7/100\n",
      "211/211 [==============================] - 38s 182ms/step - loss: 0.7485 - accuracy: 0.7160 - val_loss: 0.5571 - val_accuracy: 0.8006\n",
      "Epoch 8/100\n",
      "211/211 [==============================] - 40s 191ms/step - loss: 0.6483 - accuracy: 0.7528 - val_loss: 0.4674 - val_accuracy: 0.8275\n",
      "Epoch 9/100\n",
      "211/211 [==============================] - 40s 190ms/step - loss: 0.5658 - accuracy: 0.7992 - val_loss: 0.3900 - val_accuracy: 0.8636\n",
      "Epoch 10/100\n",
      "211/211 [==============================] - 43s 203ms/step - loss: 0.5050 - accuracy: 0.8238 - val_loss: 0.3174 - val_accuracy: 0.8988\n",
      "Epoch 11/100\n",
      "211/211 [==============================] - 42s 197ms/step - loss: 0.4248 - accuracy: 0.8601 - val_loss: 0.2957 - val_accuracy: 0.8998\n",
      "Epoch 12/100\n",
      "211/211 [==============================] - 47s 224ms/step - loss: 0.3799 - accuracy: 0.8746 - val_loss: 0.2971 - val_accuracy: 0.9112\n",
      "Epoch 13/100\n",
      "211/211 [==============================] - 45s 214ms/step - loss: 0.3357 - accuracy: 0.8884 - val_loss: 0.2528 - val_accuracy: 0.9153\n",
      "Epoch 14/100\n",
      "211/211 [==============================] - 45s 214ms/step - loss: 0.2942 - accuracy: 0.9071 - val_loss: 0.2434 - val_accuracy: 0.9329\n",
      "Epoch 15/100\n",
      "211/211 [==============================] - 42s 198ms/step - loss: 0.2554 - accuracy: 0.9174 - val_loss: 0.1561 - val_accuracy: 0.9514\n",
      "Epoch 16/100\n",
      "211/211 [==============================] - 44s 209ms/step - loss: 0.2192 - accuracy: 0.9315 - val_loss: 0.1609 - val_accuracy: 0.9545\n",
      "Epoch 17/100\n",
      "211/211 [==============================] - 44s 207ms/step - loss: 0.1956 - accuracy: 0.9388 - val_loss: 0.2358 - val_accuracy: 0.9298\n",
      "Epoch 18/100\n",
      "211/211 [==============================] - 41s 194ms/step - loss: 0.2203 - accuracy: 0.9327 - val_loss: 0.1691 - val_accuracy: 0.9535\n",
      "Epoch 19/100\n",
      "211/211 [==============================] - 42s 200ms/step - loss: 0.1723 - accuracy: 0.9466 - val_loss: 0.1482 - val_accuracy: 0.9483\n",
      "Epoch 20/100\n",
      "211/211 [==============================] - 43s 203ms/step - loss: 0.1571 - accuracy: 0.9514 - val_loss: 0.1706 - val_accuracy: 0.9494\n",
      "Epoch 21/100\n",
      "211/211 [==============================] - 43s 201ms/step - loss: 0.1621 - accuracy: 0.9480 - val_loss: 0.1397 - val_accuracy: 0.9680\n",
      "Epoch 22/100\n",
      "211/211 [==============================] - 42s 199ms/step - loss: 0.1533 - accuracy: 0.9518 - val_loss: 0.1669 - val_accuracy: 0.9514\n",
      "Epoch 23/100\n",
      "211/211 [==============================] - 43s 203ms/step - loss: 0.1362 - accuracy: 0.9610 - val_loss: 0.1523 - val_accuracy: 0.9618\n",
      "Epoch 24/100\n",
      "211/211 [==============================] - 43s 203ms/step - loss: 0.1175 - accuracy: 0.9655 - val_loss: 0.2097 - val_accuracy: 0.9452\n",
      "Epoch 25/100\n",
      "211/211 [==============================] - 44s 211ms/step - loss: 0.1315 - accuracy: 0.9606 - val_loss: 0.1449 - val_accuracy: 0.9566\n",
      "Epoch 26/100\n",
      "211/211 [==============================] - 43s 204ms/step - loss: 0.1112 - accuracy: 0.9644 - val_loss: 0.2267 - val_accuracy: 0.9504\n",
      "Epoch 27/100\n",
      "211/211 [==============================] - 43s 203ms/step - loss: 0.1284 - accuracy: 0.9567 - val_loss: 0.1218 - val_accuracy: 0.9690\n",
      "Epoch 28/100\n",
      "211/211 [==============================] - 46s 217ms/step - loss: 0.1056 - accuracy: 0.9686 - val_loss: 0.1807 - val_accuracy: 0.9628\n",
      "Epoch 29/100\n",
      "211/211 [==============================] - 44s 210ms/step - loss: 0.1060 - accuracy: 0.9671 - val_loss: 0.1685 - val_accuracy: 0.9535\n",
      "Epoch 30/100\n",
      "211/211 [==============================] - 40s 192ms/step - loss: 0.1006 - accuracy: 0.9701 - val_loss: 0.1127 - val_accuracy: 0.9690\n",
      "Epoch 31/100\n",
      "211/211 [==============================] - 42s 200ms/step - loss: 0.1109 - accuracy: 0.9690 - val_loss: 0.2005 - val_accuracy: 0.9566\n",
      "Epoch 32/100\n",
      "211/211 [==============================] - 40s 189ms/step - loss: 0.0985 - accuracy: 0.9729 - val_loss: 0.1885 - val_accuracy: 0.9618\n",
      "Epoch 33/100\n",
      "211/211 [==============================] - 41s 192ms/step - loss: 0.1008 - accuracy: 0.9675 - val_loss: 0.1600 - val_accuracy: 0.9628\n",
      "Epoch 34/100\n",
      "211/211 [==============================] - 40s 192ms/step - loss: 0.0915 - accuracy: 0.9739 - val_loss: 0.1602 - val_accuracy: 0.9659\n",
      "Epoch 35/100\n",
      "211/211 [==============================] - 40s 188ms/step - loss: 0.0704 - accuracy: 0.9788 - val_loss: 0.1290 - val_accuracy: 0.9680\n",
      "Epoch 36/100\n",
      "211/211 [==============================] - 41s 193ms/step - loss: 0.0777 - accuracy: 0.9761 - val_loss: 0.1560 - val_accuracy: 0.9576\n",
      "Epoch 37/100\n",
      "211/211 [==============================] - 40s 190ms/step - loss: 0.0802 - accuracy: 0.9757 - val_loss: 0.0753 - val_accuracy: 0.9804\n",
      "Epoch 38/100\n",
      "211/211 [==============================] - 40s 189ms/step - loss: 0.0791 - accuracy: 0.9775 - val_loss: 0.1475 - val_accuracy: 0.9638\n",
      "Epoch 39/100\n",
      "211/211 [==============================] - 40s 190ms/step - loss: 0.0758 - accuracy: 0.9781 - val_loss: 0.1453 - val_accuracy: 0.9628\n",
      "Epoch 40/100\n",
      "211/211 [==============================] - 40s 190ms/step - loss: 0.0712 - accuracy: 0.9788 - val_loss: 0.1948 - val_accuracy: 0.9576\n",
      "Epoch 41/100\n",
      "211/211 [==============================] - 41s 192ms/step - loss: 0.0549 - accuracy: 0.9838 - val_loss: 0.2191 - val_accuracy: 0.9483\n",
      "Epoch 42/100\n",
      "211/211 [==============================] - 40s 190ms/step - loss: 0.0952 - accuracy: 0.9689 - val_loss: 0.2025 - val_accuracy: 0.9566\n",
      "Epoch 43/100\n",
      "211/211 [==============================] - 40s 188ms/step - loss: 0.0612 - accuracy: 0.9809 - val_loss: 0.2101 - val_accuracy: 0.9525\n",
      "Epoch 44/100\n",
      "211/211 [==============================] - 40s 189ms/step - loss: 0.0489 - accuracy: 0.9862 - val_loss: 0.1485 - val_accuracy: 0.9690\n",
      "Epoch 45/100\n",
      "211/211 [==============================] - 40s 188ms/step - loss: 0.0561 - accuracy: 0.9835 - val_loss: 0.0961 - val_accuracy: 0.9731\n",
      "Epoch 46/100\n",
      "211/211 [==============================] - 40s 189ms/step - loss: 0.0863 - accuracy: 0.9757 - val_loss: 0.1503 - val_accuracy: 0.9638\n",
      "Epoch 47/100\n",
      "211/211 [==============================] - 40s 190ms/step - loss: 0.0524 - accuracy: 0.9849 - val_loss: 0.1489 - val_accuracy: 0.9628\n"
     ]
    }
   ],
   "source": [
    "# Train model\n",
    "model, history = train_model(model, X_train, y_train, X_valid, y_valid)"
   ]
  },
  {
   "cell_type": "code",
   "execution_count": 17,
   "id": "64ea4e66",
   "metadata": {},
   "outputs": [
    {
     "data": {
      "image/png": "[encoded data removed]",
      "text/plain": [
       "<Figure size 1200x500 with 2 Axes>"
      ]
     },
     "metadata": {},
     "output_type": "display_data"
    }
   ],
   "source": [
    "# Grafik akurasi\n",
    "plt.figure(figsize=(12, 5))\n",
    "plt.subplot(1, 2, 1)\n",
    "plt.plot(history.history['accuracy'], label='Train Accuracy')\n",
    "plt.plot(history.history['val_accuracy'], label='Val Accuracy')\n",
    "# plt.axvline(best_epoch-1, color='r', linestyle='--', label='Best Epoch')\n",
    "plt.title('Accuracy')\n",
    "plt.xlabel('Epoch')\n",
    "plt.ylabel('Accuracy')\n",
    "plt.legend()\n",
    "plt.grid(True)\n",
    "\n",
    "# Grafik loss\n",
    "plt.subplot(1, 2, 2)\n",
    "plt.plot(history.history['loss'], label='Train Loss')\n",
    "plt.plot(history.history['val_loss'], label='Val Loss')\n",
    "# plt.axvline(best_epoch-1, color='r', linestyle='--', label='Best Epoch')\n",
    "plt.title('Loss')\n",
    "plt.xlabel('Epoch')\n",
    "plt.ylabel('Loss')\n",
    "plt.legend()\n",
    "plt.grid(True)\n",
    "\n",
    "plt.tight_layout()\n",
    "plt.show()\n"
   ]
  },
  {
   "cell_type": "code",
   "execution_count": null,
   "id": "7915182d",
   "metadata": {},
   "outputs": [],
   "source": [
    "# val_accuracy terbaik\n",
    "best_val_acc = max(history.history['val_accuracy'])\n",
    "best_epoch = history.history['val_accuracy'].index(best_val_acc) + 1  \n",
    "print(f\"Val accuracy terbaik: {best_val_acc:.4f} pada epoch ke-{best_epoch}\")"
   ]
  },
  {
   "cell_type": "code",
   "execution_count": 18,
   "id": "9c441526",
   "metadata": {},
   "outputs": [
    {
     "name": "stdout",
     "output_type": "stream",
     "text": [
      "31/31 [==============================] - 6s 87ms/step\n",
      "\n",
      "=== Classification Report ===\n",
      "              precision    recall  f1-score   support\n",
      "\n",
      "        baca       1.00      0.97      0.99       138\n",
      "    berhenti       0.97      0.98      0.97       138\n",
      "        foto       0.97      1.00      0.99       138\n",
      "        halo       1.00      0.96      0.98       137\n",
      "        info       1.00      1.00      1.00       138\n",
      "     kembali       0.94      0.99      0.96       141\n",
      "       ulang       0.99      0.96      0.97       138\n",
      "\n",
      "    accuracy                           0.98       968\n",
      "   macro avg       0.98      0.98      0.98       968\n",
      "weighted avg       0.98      0.98      0.98       968\n",
      "\n",
      "RTF (Real Time Factor): 0.1268\n",
      "Precision (weighted): 0.9809\n",
      "Recall (weighted): 0.9804\n",
      "F1 Score (weighted): 0.9804\n"
     ]
    }
   ],
   "source": [
    "#Evaluasi\n",
    "metrics = evaluate_model(model, X_valid, y_valid, le)\n"
   ]
  },
  {
   "cell_type": "code",
   "execution_count": 19,
   "id": "6f0af143",
   "metadata": {},
   "outputs": [],
   "source": [
    "model.save('model/mymodelf.h5')"
   ]
  },
  {
   "cell_type": "code",
   "execution_count": null,
   "id": "a82a3aa2",
   "metadata": {},
   "outputs": [],
   "source": []
  }
 ],
 "metadata": {
  "kernelspec": {
   "display_name": "tf",
   "language": "python",
   "name": "python3"
  },
  "language_info": {
   "codemirror_mode": {
    "name": "ipython",
    "version": 3
   },
   "file_extension": ".py",
   "mimetype": "text/x-python",
   "name": "python",
   "nbconvert_exporter": "python",
   "pygments_lexer": "ipython3",
   "version": "3.9.20"
  }
 },
 "nbformat": 4,
 "nbformat_minor": 5
}
