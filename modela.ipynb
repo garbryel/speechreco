{
 "cells": [
  {
   "cell_type": "code",
   "execution_count": 1,
   "metadata": {},
   "outputs": [
    {
     "name": "stderr",
     "output_type": "stream",
     "text": [
      "c:\\Users\\gabry\\anaconda3\\envs\\tf\\lib\\site-packages\\tqdm\\auto.py:21: TqdmWarning: IProgress not found. Please update jupyter and ipywidgets. See https://ipywidgets.readthedocs.io/en/stable/user_install.html\n",
      "  from .autonotebook import tqdm as notebook_tqdm\n"
     ]
    }
   ],
   "source": [
    "import pandas as pd\n",
    "import numpy as np\n",
    "import os\n",
    "import seaborn as sns\n",
    "import matplotlib.pyplot as plt\n",
    "import librosa\n",
    "import librosa.display\n",
    "from IPython.display import Audio\n",
    "import noisereduce as nr\n",
    "from joblib import Parallel, delayed\n",
    "import multiprocessing\n",
    "from tqdm import tqdm\n",
    "\n",
    "from sklearn.metrics import precision_score, recall_score, f1_score, classification_report\n",
    "import jiwer  \n",
    "import time\n",
    "\n",
    "import pywt \n",
    "from sklearn.preprocessing import StandardScaler\n",
    "from sklearn.model_selection import train_test_split\n",
    "from sklearn.preprocessing import LabelEncoder\n",
    "from tensorflow.keras.preprocessing.sequence import pad_sequences\n",
    "from tensorflow.keras.callbacks import EarlyStopping\n",
    "from tensorflow.keras.utils import to_categorical\n",
    "from tensorflow.keras.models import Sequential\n",
    "from tensorflow.keras.layers import LSTM, SimpleRNN, Dense, Dropout, Masking\n",
    "from tensorflow.keras.optimizers import Adam\n",
    "\n",
    "import warnings\n",
    "warnings.filterwarnings('ignore')"
   ]
  },
  {
   "cell_type": "markdown",
   "metadata": {},
   "source": [
    "# Data Preparation"
   ]
  },
  {
   "cell_type": "markdown",
   "metadata": {},
   "source": [
    "## Loading Data"
   ]
  },
  {
   "cell_type": "code",
   "execution_count": 2,
   "metadata": {},
   "outputs": [],
   "source": [
    "# Konfigurasi\n",
    "DATASET_PATH = \"augdata\"\n",
    "COMMANDS = [\"baca\", \"berhenti\", \"foto\", \"halo\", \"info\", \"kembali\", \"ulang\"]"
   ]
  },
  {
   "cell_type": "code",
   "execution_count": 3,
   "metadata": {},
   "outputs": [],
   "source": [
    "# Load data\n",
    "X = []\n",
    "y = []\n",
    "\n",
    "for label in COMMANDS:\n",
    "    folder_path = os.path.join(DATASET_PATH, label)\n",
    "    for filename in os.listdir(folder_path):\n",
    "        if filename.endswith(\".wav\"):\n",
    "            file_path = os.path.join(folder_path, filename)\n",
    "            X.append(file_path)\n",
    "            y.append(label)\n",
    "\n",
    "X = np.array(X)  \n",
    "y = np.array(y)"
   ]
  },
  {
   "cell_type": "code",
   "execution_count": 4,
   "metadata": {},
   "outputs": [
    {
     "data": {
      "text/plain": [
       "17787"
      ]
     },
     "execution_count": 4,
     "metadata": {},
     "output_type": "execute_result"
    }
   ],
   "source": [
    "len(X)"
   ]
  },
  {
   "cell_type": "code",
   "execution_count": 5,
   "metadata": {},
   "outputs": [
    {
     "data": {
      "text/html": [
       "<div>\n",
       "<style scoped>\n",
       "    .dataframe tbody tr th:only-of-type {\n",
       "        vertical-align: middle;\n",
       "    }\n",
       "\n",
       "    .dataframe tbody tr th {\n",
       "        vertical-align: top;\n",
       "    }\n",
       "\n",
       "    .dataframe thead th {\n",
       "        text-align: right;\n",
       "    }\n",
       "</style>\n",
       "<table border=\"1\" class=\"dataframe\">\n",
       "  <thead>\n",
       "    <tr style=\"text-align: right;\">\n",
       "      <th></th>\n",
       "      <th>speech</th>\n",
       "      <th>label</th>\n",
       "    </tr>\n",
       "  </thead>\n",
       "  <tbody>\n",
       "    <tr>\n",
       "      <th>0</th>\n",
       "      <td>augdata\\baca\\baca100_dyn.wav</td>\n",
       "      <td>baca</td>\n",
       "    </tr>\n",
       "    <tr>\n",
       "      <th>1</th>\n",
       "      <td>augdata\\baca\\baca100_noise.wav</td>\n",
       "      <td>baca</td>\n",
       "    </tr>\n",
       "    <tr>\n",
       "      <th>2</th>\n",
       "      <td>augdata\\baca\\baca100_original.wav</td>\n",
       "      <td>baca</td>\n",
       "    </tr>\n",
       "    <tr>\n",
       "      <th>3</th>\n",
       "      <td>augdata\\baca\\baca100_pitch.wav</td>\n",
       "      <td>baca</td>\n",
       "    </tr>\n",
       "    <tr>\n",
       "      <th>4</th>\n",
       "      <td>augdata\\baca\\baca100_shift.wav</td>\n",
       "      <td>baca</td>\n",
       "    </tr>\n",
       "  </tbody>\n",
       "</table>\n",
       "</div>"
      ],
      "text/plain": [
       "                              speech label\n",
       "0       augdata\\baca\\baca100_dyn.wav  baca\n",
       "1     augdata\\baca\\baca100_noise.wav  baca\n",
       "2  augdata\\baca\\baca100_original.wav  baca\n",
       "3     augdata\\baca\\baca100_pitch.wav  baca\n",
       "4     augdata\\baca\\baca100_shift.wav  baca"
      ]
     },
     "execution_count": 5,
     "metadata": {},
     "output_type": "execute_result"
    }
   ],
   "source": [
    "# Buat dataframe\n",
    "df = pd.DataFrame()\n",
    "df['speech'] = X \n",
    "df['label'] = y\n",
    "\n",
    "df.head()"
   ]
  },
  {
   "cell_type": "code",
   "execution_count": 6,
   "metadata": {},
   "outputs": [
    {
     "data": {
      "text/plain": [
       "label\n",
       "kembali     2576\n",
       "foto        2548\n",
       "baca        2541\n",
       "berhenti    2541\n",
       "ulang       2541\n",
       "info        2527\n",
       "halo        2513\n",
       "Name: count, dtype: int64"
      ]
     },
     "execution_count": 6,
     "metadata": {},
     "output_type": "execute_result"
    }
   ],
   "source": [
    "\n",
    "df['label'].value_counts()"
   ]
  },
  {
   "cell_type": "code",
   "execution_count": 7,
   "metadata": {},
   "outputs": [],
   "source": [
    "# Tahapan Preprocessing\n",
    "\n",
    "def load_audio(file_path, sr=16000):\n",
    "    audio, sample_rate = librosa.load(file_path, sr=sr)\n",
    "    return audio / np.max(np.abs(audio)), sample_rate "
   ]
  },
  {
   "cell_type": "code",
   "execution_count": 8,
   "metadata": {},
   "outputs": [
    {
     "data": {
      "text/html": [
       "<div>\n",
       "<style scoped>\n",
       "    .dataframe tbody tr th:only-of-type {\n",
       "        vertical-align: middle;\n",
       "    }\n",
       "\n",
       "    .dataframe tbody tr th {\n",
       "        vertical-align: top;\n",
       "    }\n",
       "\n",
       "    .dataframe thead th {\n",
       "        text-align: right;\n",
       "    }\n",
       "</style>\n",
       "<table border=\"1\" class=\"dataframe\">\n",
       "  <thead>\n",
       "    <tr style=\"text-align: right;\">\n",
       "      <th></th>\n",
       "      <th>speech</th>\n",
       "      <th>label</th>\n",
       "    </tr>\n",
       "  </thead>\n",
       "  <tbody>\n",
       "    <tr>\n",
       "      <th>0</th>\n",
       "      <td>augdata\\baca\\baca100_dyn.wav</td>\n",
       "      <td>baca</td>\n",
       "    </tr>\n",
       "    <tr>\n",
       "      <th>1</th>\n",
       "      <td>augdata\\baca\\baca100_noise.wav</td>\n",
       "      <td>baca</td>\n",
       "    </tr>\n",
       "    <tr>\n",
       "      <th>2</th>\n",
       "      <td>augdata\\baca\\baca100_original.wav</td>\n",
       "      <td>baca</td>\n",
       "    </tr>\n",
       "    <tr>\n",
       "      <th>3</th>\n",
       "      <td>augdata\\baca\\baca100_pitch.wav</td>\n",
       "      <td>baca</td>\n",
       "    </tr>\n",
       "    <tr>\n",
       "      <th>4</th>\n",
       "      <td>augdata\\baca\\baca100_shift.wav</td>\n",
       "      <td>baca</td>\n",
       "    </tr>\n",
       "  </tbody>\n",
       "</table>\n",
       "</div>"
      ],
      "text/plain": [
       "                              speech label\n",
       "0       augdata\\baca\\baca100_dyn.wav  baca\n",
       "1     augdata\\baca\\baca100_noise.wav  baca\n",
       "2  augdata\\baca\\baca100_original.wav  baca\n",
       "3     augdata\\baca\\baca100_pitch.wav  baca\n",
       "4     augdata\\baca\\baca100_shift.wav  baca"
      ]
     },
     "execution_count": 8,
     "metadata": {},
     "output_type": "execute_result"
    }
   ],
   "source": [
    "# Dapatkan jumlah core\n",
    "num_cores = multiprocessing.cpu_count()\n",
    "\n",
    "# Copy DataFrame\n",
    "dfn = df.copy()\n",
    "\n",
    "# Jalankan preprocessing\n",
    "results = Parallel(n_jobs=num_cores)(\n",
    "    delayed(load_audio)(file_path)\n",
    "    for file_path in dfn['speech']\n",
    ")\n",
    "\n",
    "dfn.head()\n"
   ]
  },
  {
   "cell_type": "markdown",
   "metadata": {},
   "source": [
    "## MFCC"
   ]
  },
  {
   "cell_type": "code",
   "execution_count": 9,
   "metadata": {},
   "outputs": [
    {
     "name": "stderr",
     "output_type": "stream",
     "text": [
      "Extracting MFCC features: 100%|██████████| 17787/17787 [00:24<00:00, 719.64it/s]\n"
     ]
    },
    {
     "data": {
      "text/html": [
       "<div>\n",
       "<style scoped>\n",
       "    .dataframe tbody tr th:only-of-type {\n",
       "        vertical-align: middle;\n",
       "    }\n",
       "\n",
       "    .dataframe tbody tr th {\n",
       "        vertical-align: top;\n",
       "    }\n",
       "\n",
       "    .dataframe thead th {\n",
       "        text-align: right;\n",
       "    }\n",
       "</style>\n",
       "<table border=\"1\" class=\"dataframe\">\n",
       "  <thead>\n",
       "    <tr style=\"text-align: right;\">\n",
       "      <th></th>\n",
       "      <th>speech</th>\n",
       "      <th>label</th>\n",
       "      <th>mfcc</th>\n",
       "    </tr>\n",
       "  </thead>\n",
       "  <tbody>\n",
       "    <tr>\n",
       "      <th>0</th>\n",
       "      <td>augdata\\baca\\baca100_dyn.wav</td>\n",
       "      <td>baca</td>\n",
       "      <td>[[-478.13416, 94.535934, 24.319994, 2.3843186,...</td>\n",
       "    </tr>\n",
       "    <tr>\n",
       "      <th>1</th>\n",
       "      <td>augdata\\baca\\baca100_noise.wav</td>\n",
       "      <td>baca</td>\n",
       "      <td>[[-207.67798, -0.77459997, -3.0665402, 0.40385...</td>\n",
       "    </tr>\n",
       "    <tr>\n",
       "      <th>2</th>\n",
       "      <td>augdata\\baca\\baca100_original.wav</td>\n",
       "      <td>baca</td>\n",
       "      <td>[[-478.19656, 94.49435, 24.281418, 2.3394156, ...</td>\n",
       "    </tr>\n",
       "    <tr>\n",
       "      <th>3</th>\n",
       "      <td>augdata\\baca\\baca100_pitch.wav</td>\n",
       "      <td>baca</td>\n",
       "      <td>[[-426.4783, 99.649895, 4.1880846, 3.2213457, ...</td>\n",
       "    </tr>\n",
       "    <tr>\n",
       "      <th>4</th>\n",
       "      <td>augdata\\baca\\baca100_shift.wav</td>\n",
       "      <td>baca</td>\n",
       "      <td>[[-476.39615, 97.6118, 23.239983, 7.5516615, 1...</td>\n",
       "    </tr>\n",
       "  </tbody>\n",
       "</table>\n",
       "</div>"
      ],
      "text/plain": [
       "                              speech label  \\\n",
       "0       augdata\\baca\\baca100_dyn.wav  baca   \n",
       "1     augdata\\baca\\baca100_noise.wav  baca   \n",
       "2  augdata\\baca\\baca100_original.wav  baca   \n",
       "3     augdata\\baca\\baca100_pitch.wav  baca   \n",
       "4     augdata\\baca\\baca100_shift.wav  baca   \n",
       "\n",
       "                                                mfcc  \n",
       "0  [[-478.13416, 94.535934, 24.319994, 2.3843186,...  \n",
       "1  [[-207.67798, -0.77459997, -3.0665402, 0.40385...  \n",
       "2  [[-478.19656, 94.49435, 24.281418, 2.3394156, ...  \n",
       "3  [[-426.4783, 99.649895, 4.1880846, 3.2213457, ...  \n",
       "4  [[-476.39615, 97.6118, 23.239983, 7.5516615, 1...  "
      ]
     },
     "execution_count": 9,
     "metadata": {},
     "output_type": "execute_result"
    }
   ],
   "source": [
    "def extract_mfcc(audio, sample_rate, n_mfcc=13):\n",
    "    \"\"\"Extract MFCC features from audio\"\"\"\n",
    "    mfcc = librosa.feature.mfcc(y=audio, sr=sample_rate, n_mfcc=n_mfcc)\n",
    "    return mfcc.T  # shape: (time_steps, n_mfcc)\n",
    "\n",
    "def full_mfcc_pipeline(file_path):\n",
    "    \"\"\"Full processing pipeline for a single audio file\"\"\"\n",
    "    audio, sr = load_audio(file_path)\n",
    "    return extract_mfcc(audio, sr)\n",
    "\n",
    "def parallel_mfcc_extraction(file_paths, n_jobs=-1):\n",
    "    return Parallel(n_jobs=n_jobs)(\n",
    "        delayed(full_mfcc_pipeline)(file_path)\n",
    "        for file_path in tqdm(file_paths, desc=\"Extracting MFCC features\")\n",
    "    )\n",
    "\n",
    "# Usage\n",
    "dfn['mfcc'] = parallel_mfcc_extraction(dfn['speech'].values)\n",
    "dfn.head()\n",
    "\n",
    "\n",
    "# # Fungsi WPD + MFCC Extraction (Optimized)\n",
    "# def extract_wpd_mfcc(audio, sr, wavelet='db4', maxlevel=2, n_mfcc=8, n_fft=512, hop_length=256):\n",
    "#     wp = pywt.WaveletPacket(data=audio, wavelet=wavelet, mode='symmetric', maxlevel=maxlevel)\n",
    "    \n",
    "#     # Ambil 4 node pertama saja untuk efisiensi\n",
    "#     nodes = wp.get_level(maxlevel, order='freq')[:4]\n",
    "    \n",
    "#     mfcc_list = []\n",
    "#     for node in nodes:\n",
    "#         data = node.data\n",
    "#         if len(data) < n_fft:\n",
    "#             continue\n",
    "#         mfcc = librosa.feature.mfcc(\n",
    "#             y=data, sr=sr, n_mfcc=n_mfcc, n_fft=n_fft, hop_length=hop_length\n",
    "#         )\n",
    "#         mfcc_list.append(mfcc.T)\n",
    "    \n",
    "#     return mfcc_list\n",
    "\n",
    "# # Fungsi Padding dan Gabungkan (Optimized)\n",
    "# def pad_and_concatenate(mfcc_list, max_len=128):\n",
    "#     padded = []\n",
    "#     for mfcc in mfcc_list:\n",
    "#         if mfcc.shape[0] > max_len:\n",
    "#             mfcc = mfcc[:max_len, :]\n",
    "#         else:\n",
    "#             pad_width = max_len - mfcc.shape[0]\n",
    "#             mfcc = np.pad(mfcc, ((0, pad_width), (0, 0)), mode='constant')\n",
    "#         padded.append(mfcc)\n",
    "    \n",
    "#     # Kalau tidak ada MFCC valid, return dummy zero array\n",
    "#     if not padded:\n",
    "#         return np.zeros((max_len, 8 * 4))  # 4 nodes x 8 MFCC\n",
    "    \n",
    "#     return np.concatenate(padded, axis=1)  # shape: [max_len, 32]\n",
    "\n",
    "# # Parallel MFCC Extraction (Optimized)\n",
    "# def parallel_mfcc_extraction(audio_paths, sr=16000, max_len=128, wavelet='db4', maxlevel=2):\n",
    "#     def process_audio(audio_path):\n",
    "#         audio, _ = librosa.load(audio_path, sr=sr)\n",
    "#         mfcc_segments = extract_wpd_mfcc(audio, sr, wavelet, maxlevel)\n",
    "#         return pad_and_concatenate(mfcc_segments, max_len)\n",
    "    \n",
    "#     return Parallel(n_jobs=-1)(delayed(process_audio)(path) for path in audio_paths)\n",
    "\n",
    "# dfn['mfcc'] = parallel_mfcc_extraction(dfn['speech'].values)\n",
    "# dfn.head()"
   ]
  },
  {
   "cell_type": "code",
   "execution_count": 10,
   "metadata": {},
   "outputs": [
    {
     "name": "stdout",
     "output_type": "stream",
     "text": [
      "'baca' -> 0\n",
      "'berhenti' -> 1\n",
      "'foto' -> 2\n",
      "'halo' -> 3\n",
      "'info' -> 4\n",
      "'kembali' -> 5\n",
      "'ulang' -> 6\n"
     ]
    }
   ],
   "source": [
    "# Konversi MFCC menjadi array 3D: (samples, timesteps, n_mfcc)\n",
    "X_mfcc = pad_sequences(dfn['mfcc'], padding='post', dtype='float32')  \n",
    "\n",
    "\n",
    "le = LabelEncoder()\n",
    "y_encoded = le.fit_transform(dfn['label'])\n",
    "\n",
    "# Print the encoding assignment\n",
    "for label, encoded in zip(le.classes_, range(len(le.classes_))):\n",
    "    print(f\"'{label}' -> {encoded}\")\n"
   ]
  },
  {
   "cell_type": "markdown",
   "metadata": {},
   "source": [
    "# Modeling"
   ]
  },
  {
   "cell_type": "code",
   "execution_count": 11,
   "metadata": {},
   "outputs": [],
   "source": [
    "# Split Data\n",
    "X_train, X_val, y_train, y_val = train_test_split(\n",
    "    X_mfcc, y_encoded, test_size=0.1, stratify=y_encoded, random_state=42\n",
    "    )"
   ]
  },
  {
   "cell_type": "code",
   "execution_count": 12,
   "metadata": {},
   "outputs": [],
   "source": [
    "# One-hot encoding \n",
    "num_classes = len(np.unique(y_encoded))\n",
    "y_train_cat = to_categorical(y_train, num_classes)\n",
    "y_val_cat = to_categorical(y_val, num_classes)"
   ]
  },
  {
   "cell_type": "code",
   "execution_count": 14,
   "metadata": {},
   "outputs": [
    {
     "name": "stdout",
     "output_type": "stream",
     "text": [
      "Model: \"sequential\"\n",
      "_________________________________________________________________\n",
      " Layer (type)                Output Shape              Param #   \n",
      "=================================================================\n",
      " masking (Masking)           (None, 146, 13)           0         \n",
      "                                                                 \n",
      " lstm (LSTM)                 (None, 146, 128)          72704     \n",
      "                                                                 \n",
      " lstm_1 (LSTM)               (None, 146, 64)           49408     \n",
      "                                                                 \n",
      " lstm_2 (LSTM)               (None, 32)                12416     \n",
      "                                                                 \n",
      " dropout (Dropout)           (None, 32)                0         \n",
      "                                                                 \n",
      " dense (Dense)               (None, 64)                2112      \n",
      "                                                                 \n",
      " dropout_1 (Dropout)         (None, 64)                0         \n",
      "                                                                 \n",
      " dense_1 (Dense)             (None, 32)                2080      \n",
      "                                                                 \n",
      " dense_2 (Dense)             (None, 7)                 231       \n",
      "                                                                 \n",
      "=================================================================\n",
      "Total params: 138,951\n",
      "Trainable params: 138,951\n",
      "Non-trainable params: 0\n",
      "_________________________________________________________________\n"
     ]
    }
   ],
   "source": [
    "# Modeling\n",
    "\n",
    "model = Sequential([\n",
    "    Masking(mask_value=0.0, input_shape=(X_mfcc.shape[1], X_mfcc.shape[2])),\n",
    "    LSTM(128, return_sequences=True),\n",
    "    LSTM(64, return_sequences=True),\n",
    "    LSTM(32),\n",
    "    Dropout(0.2),\n",
    "    \n",
    "    Dense(64, activation='relu'),\n",
    "    Dropout(0.2),\n",
    "    Dense(32, activation='relu'),\n",
    "    Dense(num_classes, activation='softmax')\n",
    "])\n",
    "\n",
    "model.compile(\n",
    "    loss='categorical_crossentropy',\n",
    "    optimizer='adam',\n",
    "    metrics=['accuracy']\n",
    ")\n",
    "\n",
    "model.summary()"
   ]
  },
  {
   "cell_type": "code",
   "execution_count": 15,
   "metadata": {},
   "outputs": [],
   "source": [
    "early_stop = EarlyStopping(\n",
    "    monitor='val_accuracy',\n",
    "    patience=10,\n",
    "    restore_best_weights=True,\n",
    "    verbose=1\n",
    ")\n"
   ]
  },
  {
   "cell_type": "code",
   "execution_count": 16,
   "metadata": {},
   "outputs": [
    {
     "name": "stdout",
     "output_type": "stream",
     "text": [
      "Epoch 1/100\n",
      "501/501 [==============================] - 33s 44ms/step - loss: 0.7214 - accuracy: 0.7451 - val_loss: 0.2982 - val_accuracy: 0.9112\n",
      "Epoch 2/100\n",
      "501/501 [==============================] - 20s 40ms/step - loss: 0.1653 - accuracy: 0.9552 - val_loss: 0.1490 - val_accuracy: 0.9545\n",
      "Epoch 3/100\n",
      "501/501 [==============================] - 21s 42ms/step - loss: 0.0799 - accuracy: 0.9789 - val_loss: 0.0834 - val_accuracy: 0.9781\n",
      "Epoch 4/100\n",
      "501/501 [==============================] - 21s 43ms/step - loss: 0.0588 - accuracy: 0.9853 - val_loss: 0.0622 - val_accuracy: 0.9837\n",
      "Epoch 5/100\n",
      "501/501 [==============================] - 21s 43ms/step - loss: 0.0535 - accuracy: 0.9859 - val_loss: 0.0271 - val_accuracy: 0.9933\n",
      "Epoch 6/100\n",
      "501/501 [==============================] - 21s 42ms/step - loss: 0.0436 - accuracy: 0.9888 - val_loss: 0.0128 - val_accuracy: 0.9949\n",
      "Epoch 7/100\n",
      "501/501 [==============================] - 21s 42ms/step - loss: 0.0362 - accuracy: 0.9920 - val_loss: 0.0214 - val_accuracy: 0.9944\n",
      "Epoch 8/100\n",
      "501/501 [==============================] - 21s 43ms/step - loss: 0.0300 - accuracy: 0.9923 - val_loss: 0.2574 - val_accuracy: 0.9432\n",
      "Epoch 9/100\n",
      "501/501 [==============================] - 21s 43ms/step - loss: 0.0210 - accuracy: 0.9949 - val_loss: 0.0438 - val_accuracy: 0.9893\n",
      "Epoch 10/100\n",
      "501/501 [==============================] - 20s 40ms/step - loss: 0.0261 - accuracy: 0.9941 - val_loss: 0.0133 - val_accuracy: 0.9966\n",
      "Epoch 11/100\n",
      "501/501 [==============================] - 20s 41ms/step - loss: 0.0333 - accuracy: 0.9926 - val_loss: 0.0238 - val_accuracy: 0.9944\n",
      "Epoch 12/100\n",
      "501/501 [==============================] - 21s 42ms/step - loss: 0.0141 - accuracy: 0.9966 - val_loss: 0.0062 - val_accuracy: 0.9983\n",
      "Epoch 13/100\n",
      "501/501 [==============================] - 22s 43ms/step - loss: 0.0191 - accuracy: 0.9957 - val_loss: 0.0869 - val_accuracy: 0.9809\n",
      "Epoch 14/100\n",
      "501/501 [==============================] - 22s 45ms/step - loss: 0.0211 - accuracy: 0.9941 - val_loss: 0.0093 - val_accuracy: 0.9989\n",
      "Epoch 15/100\n",
      "501/501 [==============================] - 23s 47ms/step - loss: 0.0174 - accuracy: 0.9958 - val_loss: 0.0102 - val_accuracy: 0.9978\n",
      "Epoch 16/100\n",
      "501/501 [==============================] - 23s 46ms/step - loss: 0.0148 - accuracy: 0.9963 - val_loss: 0.0428 - val_accuracy: 0.9916\n",
      "Epoch 17/100\n",
      "501/501 [==============================] - 23s 46ms/step - loss: 0.0228 - accuracy: 0.9951 - val_loss: 0.0689 - val_accuracy: 0.9871\n",
      "Epoch 18/100\n",
      "501/501 [==============================] - 22s 44ms/step - loss: 0.0129 - accuracy: 0.9966 - val_loss: 0.0070 - val_accuracy: 0.9983\n",
      "Epoch 19/100\n",
      "501/501 [==============================] - 26s 51ms/step - loss: 0.0121 - accuracy: 0.9980 - val_loss: 0.0070 - val_accuracy: 0.9983\n",
      "Epoch 20/100\n",
      "501/501 [==============================] - 23s 47ms/step - loss: 0.0182 - accuracy: 0.9956 - val_loss: 0.0149 - val_accuracy: 0.9972\n",
      "Epoch 21/100\n",
      "501/501 [==============================] - 23s 46ms/step - loss: 0.0192 - accuracy: 0.9957 - val_loss: 0.0082 - val_accuracy: 0.9972\n",
      "Epoch 22/100\n",
      "501/501 [==============================] - 22s 44ms/step - loss: 0.0078 - accuracy: 0.9985 - val_loss: 0.0272 - val_accuracy: 0.9927\n",
      "Epoch 23/100\n",
      "501/501 [==============================] - 22s 45ms/step - loss: 0.0149 - accuracy: 0.9966 - val_loss: 0.0088 - val_accuracy: 0.9972\n",
      "Epoch 24/100\n",
      "500/501 [============================>.] - ETA: 0s - loss: 0.0044 - accuracy: 0.9989Restoring model weights from the end of the best epoch: 14.\n",
      "501/501 [==============================] - 23s 45ms/step - loss: 0.0044 - accuracy: 0.9989 - val_loss: 0.0116 - val_accuracy: 0.9944\n",
      "Epoch 24: early stopping\n",
      "Val accuracy terbaik: 0.9989 pada epoch ke-14\n"
     ]
    }
   ],
   "source": [
    "# Training\n",
    "history = model.fit(\n",
    "    X_train, y_train_cat,\n",
    "    validation_data=(X_val, y_val_cat),\n",
    "    epochs=100,\n",
    "    batch_size=32,\n",
    "    callbacks=[early_stop]\n",
    ")\n",
    "\n",
    "# val_accuracy terbaik\n",
    "best_val_acc = max(history.history['val_accuracy'])\n",
    "best_epoch = history.history['val_accuracy'].index(best_val_acc) + 1  \n",
    "print(f\"Val accuracy terbaik: {best_val_acc:.4f} pada epoch ke-{best_epoch}\")"
   ]
  },
  {
   "cell_type": "code",
   "execution_count": 17,
   "metadata": {},
   "outputs": [
    {
     "data": {
      "image/png": "[encoded data removed]",
      "text/plain": [
       "<Figure size 1200x500 with 2 Axes>"
      ]
     },
     "metadata": {},
     "output_type": "display_data"
    }
   ],
   "source": [
    "# Grafik akurasi\n",
    "plt.figure(figsize=(12, 5))\n",
    "plt.subplot(1, 2, 1)\n",
    "plt.plot(history.history['accuracy'], label='Train Accuracy')\n",
    "plt.plot(history.history['val_accuracy'], label='Val Accuracy')\n",
    "plt.axvline(best_epoch-1, color='r', linestyle='--', label='Best Epoch')\n",
    "plt.title('Accuracy')\n",
    "plt.xlabel('Epoch')\n",
    "plt.ylabel('Accuracy')\n",
    "plt.legend()\n",
    "plt.grid(True)\n",
    "\n",
    "# Grafik loss\n",
    "plt.subplot(1, 2, 2)\n",
    "plt.plot(history.history['loss'], label='Train Loss')\n",
    "plt.plot(history.history['val_loss'], label='Val Loss')\n",
    "plt.axvline(best_epoch-1, color='r', linestyle='--', label='Best Epoch')\n",
    "plt.title('Loss')\n",
    "plt.xlabel('Epoch')\n",
    "plt.ylabel('Loss')\n",
    "plt.legend()\n",
    "plt.grid(True)\n",
    "\n",
    "plt.tight_layout()\n",
    "plt.show()\n"
   ]
  },
  {
   "cell_type": "code",
   "execution_count": null,
   "metadata": {},
   "outputs": [
    {
     "name": "stdout",
     "output_type": "stream",
     "text": [
      "56/56 [==============================] - 4s 20ms/step\n",
      "=== Classification Report ===\n",
      "              precision    recall  f1-score   support\n",
      "\n",
      "        baca       1.00      1.00      1.00       254\n",
      "    berhenti       1.00      1.00      1.00       254\n",
      "        foto       1.00      1.00      1.00       255\n",
      "        halo       0.99      1.00      1.00       251\n",
      "        info       1.00      1.00      1.00       253\n",
      "     kembali       1.00      1.00      1.00       258\n",
      "       ulang       1.00      1.00      1.00       254\n",
      "\n",
      "    accuracy                           1.00      1779\n",
      "   macro avg       1.00      1.00      1.00      1779\n",
      "weighted avg       1.00      1.00      1.00      1779\n",
      "\n",
      "Word Error Rate (WER): 0.0011\n",
      "Real Time Factor (RTF): 0.2437\n",
      "Precision (weighted): 0.9989\n",
      "Recall (weighted): 0.9989\n",
      "F1 Score (weighted): 0.9989\n"
     ]
    }
   ],
   "source": [
    "# Evaluasi\n",
    "\n",
    "# Predict\n",
    "start = time.time()\n",
    "y_pred_probs = model.predict(X_val)\n",
    "end = time.time()\n",
    "\n",
    "y_pred = np.argmax(y_pred_probs, axis=1)\n",
    "y_true = np.argmax(y_val_cat, axis=1)\n",
    "\n",
    "# WER\n",
    "ref = [le.classes_[i] for i in y_true]\n",
    "hyp = [le.classes_[i] for i in y_pred]\n",
    "wer = jiwer.wer(ref, hyp)\n",
    "\n",
    "# RTF\n",
    "audio_duration_total = (X_val.shape[0] * X_val.shape[1]) / 16000  # asumsi 16kHz\n",
    "rtf = (end - start) / audio_duration_total\n",
    "\n",
    "# Precision, Recall, F1 Score\n",
    "precision = precision_score(y_true, y_pred, average='weighted')\n",
    "recall = recall_score(y_true, y_pred, average='weighted')\n",
    "f1 = f1_score(y_true, y_pred, average='weighted')\n",
    "\n",
    "# Classification report\n",
    "report = classification_report(y_true, y_pred, target_names=le.classes_)\n",
    "print(\"=== Classification Report ===\")\n",
    "print(report)\n",
    "print(f\"Word Error Rate (WER): {wer:.4f}\")\n",
    "print(f\"Real Time Factor (RTF): {rtf:.4f}\")\n",
    "print(f\"Precision (weighted): {precision:.4f}\")\n",
    "print(f\"Recall (weighted): {recall:.4f}\")\n",
    "print(f\"F1 Score (weighted): {f1:.4f}\")"
   ]
  }
 ],
 "metadata": {
  "kernelspec": {
   "display_name": "tf",
   "language": "python",
   "name": "python3"
  },
  "language_info": {
   "codemirror_mode": {
    "name": "ipython",
    "version": 3
   },
   "file_extension": ".py",
   "mimetype": "text/x-python",
   "name": "python",
   "nbconvert_exporter": "python",
   "pygments_lexer": "ipython3",
   "version": "3.9.20"
  }
 },
 "nbformat": 4,
 "nbformat_minor": 2
}
