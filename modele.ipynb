{
 "cells": [
  {
   "cell_type": "code",
   "execution_count": 23,
   "id": "c51cd482",
   "metadata": {},
   "outputs": [],
   "source": [
    "import os\n",
    "import numpy as np\n",
    "import pandas as pd\n",
    "import librosa\n",
    "import librosa.display\n",
    "import matplotlib.pyplot as plt\n",
    "import noisereduce as nr\n",
    "import pywt\n",
    "import warnings\n",
    "from tqdm import tqdm\n",
    "from joblib import Parallel, delayed\n",
    "from sklearn.preprocessing import LabelEncoder\n",
    "from sklearn.metrics import classification_report, precision_score, recall_score, f1_score\n",
    "import jiwer\n",
    "from tensorflow.keras.models import Sequential\n",
    "from tensorflow.keras.layers import LSTM, Dense, Dropout, Masking\n",
    "from tensorflow.keras.preprocessing.sequence import pad_sequences\n",
    "from tensorflow.keras.utils import to_categorical\n",
    "from tensorflow.keras.callbacks import EarlyStopping\n",
    "import time\n",
    "from sklearn.metrics import classification_report, precision_score, recall_score, f1_score\n",
    "import numpy as np\n",
    "import jiwer\n",
    "\n",
    "warnings.filterwarnings('ignore')\n"
   ]
  },
  {
   "cell_type": "code",
   "execution_count": 24,
   "id": "85fcb1e9",
   "metadata": {},
   "outputs": [],
   "source": [
    "SAMPLE_RATE = 16000\n",
    "N_MFCC = 13\n",
    "N_MELS = 22\n",
    "WINDOW = int(SAMPLE_RATE * 0.01)\n",
    "HOP = int(SAMPLE_RATE * 0.005)\n",
    "COMMANDS = [\"baca\", \"berhenti\", \"foto\", \"halo\", \"info\", \"kembali\", \"ulang\"]\n"
   ]
  },
  {
   "cell_type": "code",
   "execution_count": 25,
   "id": "4151817f",
   "metadata": {},
   "outputs": [],
   "source": [
    "def load_audio(file_path, sr=SAMPLE_RATE):\n",
    "    audio, _ = librosa.load(file_path, sr=sr)\n",
    "    return audio / np.max(np.abs(audio))\n",
    "\n",
    "def reduce_noise(audio):\n",
    "    return nr.reduce_noise(y=audio, sr=SAMPLE_RATE)\n",
    "\n",
    "def preprocess_audio(file_path):\n",
    "    audio = load_audio(file_path)\n",
    "    return reduce_noise(audio)\n",
    "\n",
    "def wavelet_transform(signal):\n",
    "    wp = pywt.WaveletPacket(signal, wavelet='db4', mode='symmetric', maxlevel=3)\n",
    "    return np.concatenate([n.data for n in wp.get_level(3, 'freq')])\n",
    "\n",
    "def extract_mfcc(signal):\n",
    "    return librosa.feature.mfcc(\n",
    "        y=wavelet_transform(signal),\n",
    "        sr=SAMPLE_RATE,\n",
    "        n_mfcc=N_MFCC,\n",
    "        n_mels=N_MELS,\n",
    "        n_fft=WINDOW,\n",
    "        hop_length=HOP\n",
    "    ).T\n"
   ]
  },
  {
   "cell_type": "code",
   "execution_count": 26,
   "id": "3ae15558",
   "metadata": {},
   "outputs": [],
   "source": [
    "def load_dataset(directory, commands):\n",
    "    data = []\n",
    "    for label in commands:\n",
    "        folder = os.path.join(directory, label)\n",
    "        for file in os.listdir(folder):\n",
    "            if file.endswith('.wav'):\n",
    "                data.append((os.path.join(folder, file), label))\n",
    "    return pd.DataFrame(data, columns=[\"speech\", \"label\"])\n"
   ]
  },
  {
   "cell_type": "code",
   "execution_count": 27,
   "id": "13318859",
   "metadata": {},
   "outputs": [],
   "source": [
    "def extract_features(df):\n",
    "    print(\"Preprocessing and extracting features...\")\n",
    "    features = Parallel(n_jobs=-1)(\n",
    "        delayed(lambda path: extract_mfcc(preprocess_audio(path)))(fp)\n",
    "        for fp in tqdm(df['speech'], desc=\"Extracting\")\n",
    "    )\n",
    "    df['mfcc'] = features\n",
    "    return df\n"
   ]
  },
  {
   "cell_type": "code",
   "execution_count": 28,
   "id": "c74149f7",
   "metadata": {},
   "outputs": [],
   "source": [
    "def encode_and_pad(df_train, df_valid):\n",
    "    le = LabelEncoder()\n",
    "    df_train['label_encoded'] = le.fit_transform(df_train['label'])\n",
    "    df_valid['label_encoded'] = le.transform(df_valid['label'])\n",
    "\n",
    "    all_mfcc = df_train['mfcc'].tolist() + df_valid['mfcc'].tolist()\n",
    "    max_len = max(len(x) for x in all_mfcc)\n",
    "\n",
    "    X_train = pad_sequences(df_train['mfcc'], maxlen=max_len, padding='post', dtype='float32')\n",
    "    X_valid = pad_sequences(df_valid['mfcc'], maxlen=max_len, padding='post', dtype='float32')\n",
    "\n",
    "    y_train = to_categorical(df_train['label_encoded'])\n",
    "    y_valid = to_categorical(df_valid['label_encoded'])\n",
    "\n",
    "    return X_train, y_train, X_valid, y_valid, le\n"
   ]
  },
  {
   "cell_type": "code",
   "execution_count": 29,
   "id": "1bf6b531",
   "metadata": {},
   "outputs": [],
   "source": [
    "def build_model(input_shape, num_classes):\n",
    "    model = Sequential([\n",
    "        Masking(mask_value=0.0, input_shape=input_shape),\n",
    "        LSTM(128, return_sequences=True),\n",
    "        LSTM(64, return_sequences=True),\n",
    "        LSTM(32),\n",
    "        Dropout(0.2),\n",
    "        Dense(64, activation='relu'),\n",
    "        Dropout(0.2),\n",
    "        Dense(num_classes, activation='softmax')\n",
    "    ])\n",
    "    model.compile(optimizer='adam', loss='categorical_crossentropy', metrics=['accuracy'])\n",
    "    return model\n"
   ]
  },
  {
   "cell_type": "code",
   "execution_count": 30,
   "id": "3dafca9b",
   "metadata": {},
   "outputs": [],
   "source": [
    "def train_model(model, X_train, y_train, X_valid, y_valid, batch_size=32, epochs=100):\n",
    "    early_stop = EarlyStopping(monitor='val_accuracy', patience=10, restore_best_weights=True)\n",
    "\n",
    "    history = model.fit(\n",
    "        X_train, y_train,\n",
    "        validation_data=(X_valid, y_valid),\n",
    "        epochs=epochs,\n",
    "        batch_size=batch_size,\n",
    "        callbacks=[early_stop],\n",
    "        verbose=1\n",
    "    )\n",
    "    return model, history\n"
   ]
  },
  {
   "cell_type": "code",
   "execution_count": 31,
   "id": "b3aa36a7",
   "metadata": {},
   "outputs": [],
   "source": [
    "def evaluate_model(model, X_valid, y_valid, label_encoder):\n",
    "    # Mulai timer\n",
    "    start = time.time()\n",
    "    \n",
    "    # Predict\n",
    "    y_pred_probs = model.predict(X_valid)\n",
    "    end = time.time()\n",
    "    \n",
    "    # Konversi ke kelas\n",
    "    y_pred_classes = np.argmax(y_pred_probs, axis=1)\n",
    "    y_true = np.argmax(y_valid, axis=1)\n",
    "    \n",
    "    # Classification Report\n",
    "    print(\"\\n=== Classification Report ===\")\n",
    "    print(classification_report(y_true, y_pred_classes, target_names=label_encoder.classes_))\n",
    "    \n",
    "    # RTF (Real Time Factor) - asumsi 16 kHz\n",
    "    audio_duration_total = (X_valid.shape[0] * X_valid.shape[1]) / 16000\n",
    "    rtf = (end - start) / audio_duration_total\n",
    "    print(f\"RTF (Real Time Factor): {rtf:.4f}\")\n",
    "    \n",
    "    # Precision, Recall, F1 Score (weighted)\n",
    "    precision = precision_score(y_true, y_pred_classes, average='weighted')\n",
    "    recall = recall_score(y_true, y_pred_classes, average='weighted')\n",
    "    f1 = f1_score(y_true, y_pred_classes, average='weighted')\n",
    "    \n",
    "    print(f\"Precision (weighted): {precision:.4f}\")\n",
    "    print(f\"Recall (weighted): {recall:.4f}\")\n",
    "    print(f\"F1 Score (weighted): {f1:.4f}\")\n",
    "    \n",
    "    return {\n",
    "        'RTF': rtf,\n",
    "        'Precision': precision,\n",
    "        'Recall': recall,\n",
    "        'F1': f1,\n",
    "        'y_true': y_true,\n",
    "        'y_pred': y_pred_classes\n",
    "    }\n"
   ]
  },
  {
   "cell_type": "code",
   "execution_count": 32,
   "id": "51d2e77c",
   "metadata": {},
   "outputs": [],
   "source": [
    "# Load datasets\n",
    "df_train = load_dataset(\"augdata/training\", COMMANDS)\n",
    "df_valid = load_dataset(\"augdata/validation\", COMMANDS)"
   ]
  },
  {
   "cell_type": "code",
   "execution_count": 33,
   "id": "d2f611d4",
   "metadata": {},
   "outputs": [
    {
     "name": "stdout",
     "output_type": "stream",
     "text": [
      "Preprocessing and extracting features...\n"
     ]
    },
    {
     "name": "stderr",
     "output_type": "stream",
     "text": [
      "Extracting: 100%|██████████| 11562/11562 [02:22<00:00, 81.12it/s]\n"
     ]
    },
    {
     "name": "stdout",
     "output_type": "stream",
     "text": [
      "Preprocessing and extracting features...\n"
     ]
    },
    {
     "name": "stderr",
     "output_type": "stream",
     "text": [
      "Extracting: 100%|██████████| 1290/1290 [00:14<00:00, 91.53it/s]\n"
     ]
    }
   ],
   "source": [
    "# Preprocessing + Feature extraction\n",
    "df_train = extract_features(df_train)\n",
    "df_valid = extract_features(df_valid)\n"
   ]
  },
  {
   "cell_type": "code",
   "execution_count": 34,
   "id": "80d26296",
   "metadata": {},
   "outputs": [],
   "source": [
    "# Encode & pad\n",
    "X_train, y_train, X_valid, y_valid, le = encode_and_pad(df_train, df_valid)"
   ]
  },
  {
   "cell_type": "code",
   "execution_count": 35,
   "id": "fbc638c7",
   "metadata": {},
   "outputs": [],
   "source": [
    "# Build model\n",
    "model = build_model(input_shape=(X_train.shape[1], X_train.shape[2]), num_classes=y_train.shape[1])"
   ]
  },
  {
   "cell_type": "code",
   "execution_count": 36,
   "id": "6fc6320a",
   "metadata": {},
   "outputs": [
    {
     "name": "stdout",
     "output_type": "stream",
     "text": [
      "Epoch 1/100\n",
      "362/362 [==============================] - 80s 197ms/step - loss: 1.6682 - accuracy: 0.2951 - val_loss: 1.3098 - val_accuracy: 0.4318\n",
      "Epoch 2/100\n",
      "362/362 [==============================] - 76s 210ms/step - loss: 1.1846 - accuracy: 0.4745 - val_loss: 1.0239 - val_accuracy: 0.5380\n",
      "Epoch 3/100\n",
      "362/362 [==============================] - 75s 207ms/step - loss: 0.9853 - accuracy: 0.5570 - val_loss: 0.8144 - val_accuracy: 0.6186\n",
      "Epoch 4/100\n",
      "362/362 [==============================] - 83s 228ms/step - loss: 0.7909 - accuracy: 0.6728 - val_loss: 0.5727 - val_accuracy: 0.7674\n",
      "Epoch 5/100\n",
      "362/362 [==============================] - 75s 208ms/step - loss: 0.5941 - accuracy: 0.7810 - val_loss: 0.4965 - val_accuracy: 0.8163\n",
      "Epoch 6/100\n",
      "362/362 [==============================] - 77s 214ms/step - loss: 0.4418 - accuracy: 0.8460 - val_loss: 0.3270 - val_accuracy: 0.8853\n",
      "Epoch 7/100\n",
      "362/362 [==============================] - 75s 208ms/step - loss: 0.3506 - accuracy: 0.8825 - val_loss: 0.2735 - val_accuracy: 0.8984\n",
      "Epoch 8/100\n",
      "362/362 [==============================] - 76s 209ms/step - loss: 0.2973 - accuracy: 0.9054 - val_loss: 0.2791 - val_accuracy: 0.9070\n",
      "Epoch 9/100\n",
      "362/362 [==============================] - 76s 209ms/step - loss: 0.2651 - accuracy: 0.9165 - val_loss: 0.2021 - val_accuracy: 0.9357\n",
      "Epoch 10/100\n",
      "362/362 [==============================] - 77s 213ms/step - loss: 0.2171 - accuracy: 0.9301 - val_loss: 0.2199 - val_accuracy: 0.9279\n",
      "Epoch 11/100\n",
      "362/362 [==============================] - 76s 210ms/step - loss: 0.2013 - accuracy: 0.9398 - val_loss: 0.1790 - val_accuracy: 0.9465\n",
      "Epoch 12/100\n",
      "362/362 [==============================] - 78s 214ms/step - loss: 0.1832 - accuracy: 0.9421 - val_loss: 0.1551 - val_accuracy: 0.9550\n",
      "Epoch 13/100\n",
      "362/362 [==============================] - 76s 209ms/step - loss: 0.1797 - accuracy: 0.9440 - val_loss: 0.1743 - val_accuracy: 0.9496\n",
      "Epoch 14/100\n",
      "362/362 [==============================] - 76s 210ms/step - loss: 0.1582 - accuracy: 0.9483 - val_loss: 0.2165 - val_accuracy: 0.9434\n",
      "Epoch 15/100\n",
      "362/362 [==============================] - 77s 212ms/step - loss: 0.1384 - accuracy: 0.9551 - val_loss: 0.1190 - val_accuracy: 0.9674\n",
      "Epoch 16/100\n",
      "362/362 [==============================] - 76s 211ms/step - loss: 0.1421 - accuracy: 0.9557 - val_loss: 0.2041 - val_accuracy: 0.9457\n",
      "Epoch 17/100\n",
      "362/362 [==============================] - 76s 209ms/step - loss: 0.1191 - accuracy: 0.9638 - val_loss: 0.1501 - val_accuracy: 0.9589\n",
      "Epoch 18/100\n",
      "362/362 [==============================] - 76s 211ms/step - loss: 0.1076 - accuracy: 0.9678 - val_loss: 0.1632 - val_accuracy: 0.9566\n",
      "Epoch 19/100\n",
      "362/362 [==============================] - 77s 211ms/step - loss: 0.1162 - accuracy: 0.9663 - val_loss: 0.1844 - val_accuracy: 0.9519\n",
      "Epoch 20/100\n",
      "362/362 [==============================] - 76s 209ms/step - loss: 0.0955 - accuracy: 0.9719 - val_loss: 0.2426 - val_accuracy: 0.9434\n",
      "Epoch 21/100\n",
      "362/362 [==============================] - 75s 208ms/step - loss: 0.1191 - accuracy: 0.9631 - val_loss: 0.1627 - val_accuracy: 0.9496\n",
      "Epoch 22/100\n",
      "362/362 [==============================] - 77s 213ms/step - loss: 0.0902 - accuracy: 0.9737 - val_loss: 0.0897 - val_accuracy: 0.9752\n",
      "Epoch 23/100\n",
      "362/362 [==============================] - 77s 213ms/step - loss: 0.0925 - accuracy: 0.9728 - val_loss: 0.1424 - val_accuracy: 0.9628\n",
      "Epoch 24/100\n",
      "362/362 [==============================] - 76s 211ms/step - loss: 0.0738 - accuracy: 0.9784 - val_loss: 0.1235 - val_accuracy: 0.9690\n",
      "Epoch 25/100\n",
      "362/362 [==============================] - 76s 211ms/step - loss: 0.0819 - accuracy: 0.9761 - val_loss: 0.0979 - val_accuracy: 0.9752\n",
      "Epoch 26/100\n",
      "362/362 [==============================] - 75s 209ms/step - loss: 0.0839 - accuracy: 0.9756 - val_loss: 0.1972 - val_accuracy: 0.9527\n",
      "Epoch 27/100\n",
      "362/362 [==============================] - 77s 213ms/step - loss: 0.0858 - accuracy: 0.9760 - val_loss: 0.1236 - val_accuracy: 0.9667\n",
      "Epoch 28/100\n",
      "362/362 [==============================] - 77s 213ms/step - loss: 0.0528 - accuracy: 0.9841 - val_loss: 0.1305 - val_accuracy: 0.9651\n",
      "Epoch 29/100\n",
      "362/362 [==============================] - 76s 210ms/step - loss: 0.0661 - accuracy: 0.9790 - val_loss: 0.1059 - val_accuracy: 0.9674\n",
      "Epoch 30/100\n",
      "362/362 [==============================] - 78s 215ms/step - loss: 0.0731 - accuracy: 0.9775 - val_loss: 0.2554 - val_accuracy: 0.9279\n",
      "Epoch 31/100\n",
      "362/362 [==============================] - 78s 214ms/step - loss: 0.0628 - accuracy: 0.9820 - val_loss: 0.1767 - val_accuracy: 0.9581\n",
      "Epoch 32/100\n",
      "362/362 [==============================] - 77s 212ms/step - loss: 0.0894 - accuracy: 0.9728 - val_loss: 0.1614 - val_accuracy: 0.9558\n"
     ]
    }
   ],
   "source": [
    "# Train model\n",
    "model, history = train_model(model, X_train, y_train, X_valid, y_valid)"
   ]
  },
  {
   "cell_type": "code",
   "execution_count": 37,
   "id": "64ea4e66",
   "metadata": {},
   "outputs": [
    {
     "data": {
      "image/png": "[encoded data removed]",
      "text/plain": [
       "<Figure size 1200x500 with 2 Axes>"
      ]
     },
     "metadata": {},
     "output_type": "display_data"
    }
   ],
   "source": [
    "# Grafik akurasi\n",
    "plt.figure(figsize=(12, 5))\n",
    "plt.subplot(1, 2, 1)\n",
    "plt.plot(history.history['accuracy'], label='Train Accuracy')\n",
    "plt.plot(history.history['val_accuracy'], label='Val Accuracy')\n",
    "# plt.axvline(best_epoch-1, color='r', linestyle='--', label='Best Epoch')\n",
    "plt.title('Accuracy')\n",
    "plt.xlabel('Epoch')\n",
    "plt.ylabel('Accuracy')\n",
    "plt.legend()\n",
    "plt.grid(True)\n",
    "\n",
    "# Grafik loss\n",
    "plt.subplot(1, 2, 2)\n",
    "plt.plot(history.history['loss'], label='Train Loss')\n",
    "plt.plot(history.history['val_loss'], label='Val Loss')\n",
    "# plt.axvline(best_epoch-1, color='r', linestyle='--', label='Best Epoch')\n",
    "plt.title('Loss')\n",
    "plt.xlabel('Epoch')\n",
    "plt.ylabel('Loss')\n",
    "plt.legend()\n",
    "plt.grid(True)\n",
    "\n",
    "plt.tight_layout()\n",
    "plt.show()\n"
   ]
  },
  {
   "cell_type": "code",
   "execution_count": 38,
   "id": "9c441526",
   "metadata": {},
   "outputs": [
    {
     "name": "stdout",
     "output_type": "stream",
     "text": [
      "41/41 [==============================] - 6s 79ms/step\n",
      "\n",
      "=== Classification Report ===\n",
      "              precision    recall  f1-score   support\n",
      "\n",
      "        baca       0.99      0.97      0.98       184\n",
      "    berhenti       0.97      0.99      0.98       184\n",
      "        foto       0.95      0.98      0.97       184\n",
      "        halo       1.00      0.95      0.97       183\n",
      "        info       0.99      0.97      0.98       183\n",
      "     kembali       0.95      0.99      0.97       188\n",
      "       ulang       0.97      0.98      0.98       184\n",
      "\n",
      "    accuracy                           0.98      1290\n",
      "   macro avg       0.98      0.98      0.98      1290\n",
      "weighted avg       0.98      0.98      0.98      1290\n",
      "\n",
      "RTF (Real Time Factor): 0.0811\n",
      "Precision (weighted): 0.9757\n",
      "Recall (weighted): 0.9752\n",
      "F1 Score (weighted): 0.9752\n"
     ]
    }
   ],
   "source": [
    "#Evaluasi\n",
    "metrics = evaluate_model(model, X_valid, y_valid, le)\n"
   ]
  },
  {
   "cell_type": "code",
   "execution_count": 39,
   "id": "6f0af143",
   "metadata": {},
   "outputs": [],
   "source": [
    "model.save('model/mymodele3.h5')"
   ]
  },
  {
   "cell_type": "code",
   "execution_count": 40,
   "id": "a82a3aa2",
   "metadata": {},
   "outputs": [
    {
     "data": {
      "text/plain": [
       "label\n",
       "kembali     1680\n",
       "ulang       1656\n",
       "baca        1650\n",
       "foto        1650\n",
       "berhenti    1644\n",
       "info        1644\n",
       "halo        1638\n",
       "Name: count, dtype: int64"
      ]
     },
     "execution_count": 40,
     "metadata": {},
     "output_type": "execute_result"
    }
   ],
   "source": [
    "df_train['label'].value_counts()"
   ]
  },
  {
   "cell_type": "code",
   "execution_count": 41,
   "id": "59d98df4",
   "metadata": {},
   "outputs": [
    {
     "data": {
      "text/plain": [
       "label\n",
       "kembali     188\n",
       "baca        184\n",
       "berhenti    184\n",
       "foto        184\n",
       "ulang       184\n",
       "halo        183\n",
       "info        183\n",
       "Name: count, dtype: int64"
      ]
     },
     "execution_count": 41,
     "metadata": {},
     "output_type": "execute_result"
    }
   ],
   "source": [
    "df_valid['label'].value_counts()"
   ]
  },
  {
   "cell_type": "code",
   "execution_count": 42,
   "id": "257f72a1",
   "metadata": {},
   "outputs": [
    {
     "name": "stdout",
     "output_type": "stream",
     "text": [
      "Val accuracy terbaik: 0.9752 pada epoch ke-22\n"
     ]
    }
   ],
   "source": [
    "# val_accuracy terbaik\n",
    "best_val_acc = max(history.history['val_accuracy'])\n",
    "best_epoch = history.history['val_accuracy'].index(best_val_acc) + 1  \n",
    "print(f\"Val accuracy terbaik: {best_val_acc:.4f} pada epoch ke-{best_epoch}\")"
   ]
  },
  {
   "cell_type": "code",
   "execution_count": 43,
   "id": "6158e982",
   "metadata": {},
   "outputs": [
    {
     "data": {
      "text/plain": [
       "0        0\n",
       "1        0\n",
       "2        0\n",
       "3        0\n",
       "4        0\n",
       "        ..\n",
       "11557    6\n",
       "11558    6\n",
       "11559    6\n",
       "11560    6\n",
       "11561    6\n",
       "Name: label_encoded, Length: 11562, dtype: int32"
      ]
     },
     "execution_count": 43,
     "metadata": {},
     "output_type": "execute_result"
    }
   ],
   "source": [
    "df_train['label_encoded']"
   ]
  },
  {
   "cell_type": "code",
   "execution_count": 44,
   "id": "b444e2c8",
   "metadata": {},
   "outputs": [
    {
     "name": "stdout",
     "output_type": "stream",
     "text": [
      "'baca' -> 0\n",
      "'berhenti' -> 1\n",
      "'foto' -> 2\n",
      "'halo' -> 3\n",
      "'info' -> 4\n",
      "'kembali' -> 5\n",
      "'ulang' -> 6\n"
     ]
    }
   ],
   "source": [
    "# Print the encoding assignment\n",
    "for label, encoded in zip(le.classes_, range(len(le.classes_))):\n",
    "    print(f\"'{label}' -> {encoded}\")"
   ]
  },
  {
   "cell_type": "code",
   "execution_count": 1,
   "id": "1658400a",
   "metadata": {},
   "outputs": [
    {
     "ename": "NameError",
     "evalue": "name 'model' is not defined",
     "output_type": "error",
     "traceback": [
      "\u001b[1;31m---------------------------------------------------------------------------\u001b[0m",
      "\u001b[1;31mNameError\u001b[0m                                 Traceback (most recent call last)",
      "Cell \u001b[1;32mIn[1], line 1\u001b[0m\n\u001b[1;32m----> 1\u001b[0m \u001b[43mmodel\u001b[49m\u001b[38;5;241m.\u001b[39msummary()\n",
      "\u001b[1;31mNameError\u001b[0m: name 'model' is not defined"
     ]
    }
   ],
   "source": [
    "model.summary()"
   ]
  },
  {
   "cell_type": "code",
   "execution_count": null,
   "id": "458f5e7c",
   "metadata": {},
   "outputs": [],
   "source": []
  }
 ],
 "metadata": {
  "kernelspec": {
   "display_name": "tf",
   "language": "python",
   "name": "python3"
  },
  "language_info": {
   "codemirror_mode": {
    "name": "ipython",
    "version": 3
   },
   "file_extension": ".py",
   "mimetype": "text/x-python",
   "name": "python",
   "nbconvert_exporter": "python",
   "pygments_lexer": "ipython3",
   "version": "3.9.20"
  }
 },
 "nbformat": 4,
 "nbformat_minor": 5
}
