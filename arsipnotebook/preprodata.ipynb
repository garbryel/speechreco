{
 "cells": [
  {
   "cell_type": "code",
   "execution_count": 1,
   "id": "0108e2ef",
   "metadata": {},
   "outputs": [
    {
     "name": "stderr",
     "output_type": "stream",
     "text": [
      "c:\\Users\\gabry\\anaconda3\\envs\\tf\\lib\\site-packages\\tqdm\\auto.py:21: TqdmWarning: IProgress not found. Please update jupyter and ipywidgets. See https://ipywidgets.readthedocs.io/en/stable/user_install.html\n",
      "  from .autonotebook import tqdm as notebook_tqdm\n"
     ]
    }
   ],
   "source": [
    "import os\n",
    "import random\n",
    "import librosa\n",
    "import librosa.display\n",
    "import numpy as np\n",
    "import noisereduce as nr\n",
    "import soundfile as sf\n",
    "from sklearn.model_selection import train_test_split"
   ]
  },
  {
   "cell_type": "code",
   "execution_count": 2,
   "id": "3129ad9c",
   "metadata": {},
   "outputs": [],
   "source": [
    "# Konfigurasi\n",
    "DATASET_PATH = \"dataset\"\n",
    "OUTPUT_PATH = \"dataaug2\"\n",
    "COMMANDS = [\"baca\", \"berhenti\", \"foto\", \"halo\", \"info\", \"kembali\", \"ulang\"]\n",
    "SAMPLE_RATE = 16000\n",
    "AUG_FUNCTIONS = ['noise', 'stretch', 'pitch', 'dyn_change', 'speednpitch']"
   ]
  },
  {
   "cell_type": "code",
   "execution_count": 3,
   "id": "152a151f",
   "metadata": {},
   "outputs": [],
   "source": [
    "# Preprocessing functions\n",
    "def load_audio(file_path, sr=SAMPLE_RATE):\n",
    "    audio, _ = librosa.load(file_path, sr=sr)\n",
    "    return audio\n",
    "\n",
    "def reduce_noise(audio):\n",
    "    return nr.reduce_noise(y=audio, sr=SAMPLE_RATE)\n",
    "\n",
    "def preprocess_audio(file_path):\n",
    "    audio = load_audio(file_path)\n",
    "    return reduce_noise(audio)"
   ]
  },
  {
   "cell_type": "code",
   "execution_count": 4,
   "id": "6f80612a",
   "metadata": {},
   "outputs": [],
   "source": [
    "# Augmentasi functions\n",
    "def noise(data):\n",
    "    noise_amp = 0.05 * np.random.uniform() * np.amax(data)\n",
    "    return data.astype('float64') + noise_amp * np.random.normal(size=data.shape[0])\n",
    "\n",
    "def stretch(data):\n",
    "    rate = np.random.uniform(0.8, 1.2)  \n",
    "    return librosa.effects.time_stretch(data, rate=rate)\n",
    "\n",
    "def pitch(data):\n",
    "    pitch_pm = 2\n",
    "    pitch_change = np.random.randint(-pitch_pm, pitch_pm)\n",
    "    return librosa.effects.pitch_shift(y=data.astype('float64'), \n",
    "                                       sr=SAMPLE_RATE, \n",
    "                                       n_steps=pitch_change)\n",
    "\n",
    "def dyn_change(data):\n",
    "    dyn = np.random.uniform(low=0.3, high=2.0)\n",
    "    return data * dyn\n",
    "\n",
    "def speednpitch(data):\n",
    "    length_change = np.random.uniform(low=0.8, high=1)\n",
    "    speed_fac = 1.2 / length_change\n",
    "    tmp = np.interp(np.arange(0, len(data), speed_fac), np.arange(0, len(data)), data)\n",
    "    minlen = min(len(data), len(tmp))\n",
    "    data_out = np.zeros_like(data)\n",
    "    data_out[0:minlen] = tmp[0:minlen]\n",
    "    return data_out"
   ]
  },
  {
   "cell_type": "code",
   "execution_count": 5,
   "id": "6254b01c",
   "metadata": {},
   "outputs": [],
   "source": [
    "AUGMENTATION_MAP = {\n",
    "    'noise': noise,\n",
    "    'stretch': stretch,\n",
    "    'pitch': pitch,\n",
    "    'dyn_change': dyn_change,\n",
    "    'speednpitch': speednpitch\n",
    "}\n"
   ]
  },
  {
   "cell_type": "code",
   "execution_count": 6,
   "id": "d1fcd8ef",
   "metadata": {},
   "outputs": [],
   "source": [
    "# Membuat folder\n",
    "def ensure_dir(path):\n",
    "    if not os.path.exists(path):\n",
    "        os.makedirs(path)"
   ]
  },
  {
   "cell_type": "code",
   "execution_count": 7,
   "id": "f9845bbd",
   "metadata": {},
   "outputs": [],
   "source": [
    "# Proses utama\n",
    "def process_dataset():\n",
    "    for label in COMMANDS:\n",
    "        label_path = os.path.join(DATASET_PATH, label)\n",
    "        files = [f for f in os.listdir(label_path) if f.endswith(\".wav\")]\n",
    "\n",
    "        train_files, val_files = train_test_split(files, test_size=0.3, random_state=42)\n",
    "\n",
    "        # === Simpan data validasi ===\n",
    "        for f in val_files:\n",
    "            file_path = os.path.join(label_path, f)\n",
    "            audio = preprocess_audio(file_path)\n",
    "            out_dir = os.path.join(OUTPUT_PATH, \"validation\", label)\n",
    "            ensure_dir(out_dir)\n",
    "            sf.write(os.path.join(out_dir, f), audio, SAMPLE_RATE)\n",
    "\n",
    "        # === Proses dan augmentasi data training ===\n",
    "        for f in train_files:\n",
    "            file_path = os.path.join(label_path, f)\n",
    "            audio = preprocess_audio(file_path)\n",
    "\n",
    "            # Pilih 3 fungsi augmentasi secara acak dan berbeda\n",
    "            selected_augs = random.sample(AUG_FUNCTIONS, 3)\n",
    "\n",
    "            for i, aug_name in enumerate(selected_augs):\n",
    "                aug_func = AUGMENTATION_MAP[aug_name]\n",
    "                try:\n",
    "                    augmented = aug_func(audio)\n",
    "                    # Normalisasi hasil augmentasi\n",
    "                    augmented = augmented / np.max(np.abs(augmented))\n",
    "\n",
    "                    out_dir = os.path.join(OUTPUT_PATH, \"train\", label)\n",
    "                    ensure_dir(out_dir)\n",
    "                    base_name = os.path.splitext(f)[0]\n",
    "                    out_file = f\"{base_name}_aug{i+1}_{aug_name}.wav\"\n",
    "                    sf.write(os.path.join(out_dir, out_file), augmented, SAMPLE_RATE)\n",
    "                except Exception as e:\n",
    "                    print(f\"Error augmenting {f} with {aug_name}: {e}\")\n",
    "\n",
    "if __name__ == \"__main__\":\n",
    "    process_dataset()\n"
   ]
  }
 ],
 "metadata": {
  "kernelspec": {
   "display_name": "tf",
   "language": "python",
   "name": "python3"
  },
  "language_info": {
   "codemirror_mode": {
    "name": "ipython",
    "version": 3
   },
   "file_extension": ".py",
   "mimetype": "text/x-python",
   "name": "python",
   "nbconvert_exporter": "python",
   "pygments_lexer": "ipython3",
   "version": "3.9.20"
  }
 },
 "nbformat": 4,
 "nbformat_minor": 5
}
